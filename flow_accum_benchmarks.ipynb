{
 "metadata": {
  "name": "",
  "signature": "sha256:c7b1fc1f9a4e7a510f554913b011586150eefe1b463c9423b406e7de2130cc2d"
 },
 "nbformat": 3,
 "nbformat_minor": 0,
 "worksheets": [
  {
   "cells": [
    {
     "cell_type": "heading",
     "level": 1,
     "metadata": {},
     "source": [
      "Flow accumulation: comparison between different implementations."
     ]
    },
    {
     "cell_type": "markdown",
     "metadata": {},
     "source": [
      "Note: this notebook only compares [Numpy](http://www.numpy.org/) vs. [Numba](http://numba.pydata.org/) implementations of the Braun & Willet's (2013) method for ordering the mesh nodes (single flow). See the [Braun & Willet's paper](http://www.sciencedirect.com/science/article/pii/S0169555X12004618) for a detailled description of the algorithm."
     ]
    },
    {
     "cell_type": "code",
     "collapsed": false,
     "input": [
      "import sys\n",
      "\n",
      "import numpy\n",
      "import numba\n",
      "\n",
      "import landlab\n",
      "from landlab import RasterModelGrid\n",
      "from landlab.components.flow_routing.route_flow_dn import FlowRouter\n",
      "from landlab.components.flow_accum.flow_accum_bw import make_ordered_node_array\n",
      "from landlab.components.flow_accum.flow_accum_bw import _DrainageStack\n",
      "\n",
      "%matplotlib inline"
     ],
     "language": "python",
     "metadata": {},
     "outputs": [],
     "prompt_number": 1
    },
    {
     "cell_type": "code",
     "collapsed": false,
     "input": [
      "print numpy.__version__\n",
      "print numba.__version__\n",
      "print landlab.__version__"
     ],
     "language": "python",
     "metadata": {},
     "outputs": [
      {
       "output_type": "stream",
       "stream": "stdout",
       "text": [
        "1.9.0\n",
        "0.14.0\n",
        "0.1.5\n"
       ]
      }
     ],
     "prompt_number": 2
    },
    {
     "cell_type": "heading",
     "level": 3,
     "metadata": {},
     "source": [
      "Implementation"
     ]
    },
    {
     "cell_type": "markdown",
     "metadata": {},
     "source": [
      "The Numpy implementation is the one currently implemented in the landlab package v0.1.5 (https://github.com/landlab/). Note that the stack building is still implemented in pure python."
     ]
    },
    {
     "cell_type": "code",
     "collapsed": false,
     "input": [
      "def order_nodes_numpy(receivers, baselevels):\n",
      "    \"\"\"Numpy implementation of node ordering.\"\"\"\n",
      "    \n",
      "    # number of donors\n",
      "    np = receivers.size\n",
      "    nd = numpy.zeros(np, dtype=numpy.int)\n",
      "    max_index = numpy.max(receivers)\n",
      "    nd[:(max_index + 1)] = numpy.bincount(receivers)\n",
      "\n",
      "    # donors temp list\n",
      "    delta = numpy.zeros(np+1, dtype=int)\n",
      "    delta.fill(np)\n",
      "    delta[-2::-1] -= numpy.cumsum(nd[::-1])\n",
      "    \n",
      "    # donors array (non vectorized)\n",
      "    w = numpy.zeros(np, dtype=int)\n",
      "    D = numpy.zeros(np, dtype=int)\n",
      "    for i in range(np):\n",
      "        ri = receivers[i]\n",
      "        D[delta[ri]+w[ri]] = i\n",
      "        w[ri] += 1\n",
      "    \n",
      "    # build stacks\n",
      "    dstack = _DrainageStack(delta, D)\n",
      "    add_it = dstack.add_to_stack\n",
      "    for k in baselevels:\n",
      "        add_it(k)\n",
      "    return dstack.s"
     ],
     "language": "python",
     "metadata": {},
     "outputs": [],
     "prompt_number": 3
    },
    {
     "cell_type": "markdown",
     "metadata": {},
     "source": [
      "[Numba](http://numba.pydata.org/) implementation below.\n",
      "\n",
      "Recursive functions are not yet supported by Numba (in non-python mode), but hopefully it will be allowed in a next release. Consequently, the implementation of recursive stack building is still pure-python.\n",
      "\n",
      "Note that, when using very large model grids with specific configurations, an excedence in the maximum allowed recursion depth may arise while building the stack, although this limit is configurable:\n",
      "\n",
      "    import sys\n",
      "    sys.setrecursionlimit(10000)  # or any other number\n",
      "\n",
      "A non-recursive, jitted alternative is also tested here. The algorithm is less efficient than the recursive method, but the jitted function can greatly improve the overall efficiency, compared to pure-python code. "
     ]
    },
    {
     "cell_type": "code",
     "collapsed": false,
     "input": [
      "#@numba.njit  # recursion not yet supported by numba\n",
      "def _build_stack(n, D, delta, s, inc):\n",
      "    \"\"\"Stack building (recursive).\"\"\"\n",
      "    s[inc] = n\n",
      "    for i in range(delta[n], delta[n + 1]):\n",
      "        m = D[i]\n",
      "        if m != n:\n",
      "            inc = _build_stack(m, D, delta, s, inc + 1)\n",
      "    return inc\n",
      "\n",
      "\n",
      "@numba.njit\n",
      "def _build_stack_nr(b, r, D, delta, s, stack_id, inc):\n",
      "    \"\"\"\n",
      "    A non-recursive, but less efficient stack building\n",
      "    (more iterations).\n",
      "    \"\"\"\n",
      "    # init\n",
      "    n_prev = -1\n",
      "    \n",
      "    # add base level\n",
      "    n = b\n",
      "    s[inc] = n\n",
      "    stack_id[n] = b\n",
      "    \n",
      "    # main loop (walk the network upstream and downstream)\n",
      "    while n != n_prev:\n",
      "        n_prev = n\n",
      "        mv_upstream = False\n",
      "        for i in range(delta[n], delta[n + 1]):\n",
      "            m = D[i]\n",
      "            if stack_id[m] != b:\n",
      "                inc += 1\n",
      "                s[inc] = m\n",
      "                stack_id[m] = b\n",
      "                mv_upstream = True\n",
      "                break\n",
      "        if mv_upstream:\n",
      "            n = m     # move upstream\n",
      "        else:\n",
      "            n = r[n]  # otherwise move downstream\n",
      "    \n",
      "    return inc\n",
      "            \n",
      "\n",
      "@numba.njit\n",
      "def _calculate_temp_arrays(r, nd, delta, D, w):\n",
      "    np = r.size\n",
      "    \n",
      "    # number of donors (nd)\n",
      "    for i in range(np):\n",
      "        nd[r[i]] += 1\n",
      "    \n",
      "    # donors positions in D (delta)\n",
      "    delta[np] = np\n",
      "    for i in range(np - 1, -1, -1):\n",
      "        delta[i] = delta[i + 1] - nd[i]\n",
      "    \n",
      "    # donors ids flattened (D)\n",
      "    for i in range(np):\n",
      "        ri = r[i]\n",
      "        D[delta[ri] + w[ri]] = i\n",
      "        w[ri] += 1\n",
      "\n",
      "   \n",
      "def order_nodes_numba(receivers, baselevels, mode='recursive',\n",
      "                      out_stack_ids=False):\n",
      "    \"\"\"Numba implementation of node ordering.\"\"\"\n",
      "    \n",
      "    # temp arrays\n",
      "    np = receivers.size\n",
      "    nd = numpy.zeros(np, dtype=int)\n",
      "    delta = numpy.zeros(np+1, dtype=int)\n",
      "    D = numpy.zeros(np, dtype=int)\n",
      "    w = numpy.zeros(np, dtype=int)\n",
      "    _calculate_temp_arrays(receivers, nd, delta, D, w)\n",
      "    del nd, w\n",
      "    \n",
      "    # build stacks\n",
      "    s = numpy.zeros(np, dtype=int)\n",
      "    stack_id = numpy.zeros(np, dtype=int) - 1\n",
      "    if mode == 'recursive':\n",
      "        bstack_func = lambda b, inc: _build_stack(\n",
      "            b, D, delta, s, inc\n",
      "        )\n",
      "    elif mode == 'non-recursive':\n",
      "        bstack_func = lambda b, inc: _build_stack_nr(\n",
      "            b, receivers, D, delta, s, stack_id, 0\n",
      "        )\n",
      "    inc = 0\n",
      "    for b in baselevels:\n",
      "        inc = bstack_func(b, inc) + 1\n",
      "    \n",
      "    if out_stack_ids and mode != 'recursive':\n",
      "        return (s, stack_id)\n",
      "    else:\n",
      "        return s"
     ],
     "language": "python",
     "metadata": {},
     "outputs": [],
     "prompt_number": 4
    },
    {
     "cell_type": "heading",
     "level": 3,
     "metadata": {},
     "source": [
      "Testing"
     ]
    },
    {
     "cell_type": "markdown",
     "metadata": {},
     "source": [
      "Testing is based on the example case presented in Braun & Willet (2013)."
     ]
    },
    {
     "cell_type": "code",
     "collapsed": false,
     "input": [
      "receivers = numpy.array([2, 5, 2, 7, 5, 5, 6, 5, 7, 8]) - 1\n",
      "expected_order = numpy.array([5, 2, 1, 3, 6, 7, 4, 9, 8, 10]) - 1\n",
      "\n",
      "print (order_nodes_numpy(receivers, [4]) == expected_order).all()\n",
      "print (order_nodes_numba(receivers, [4]) == expected_order).all()\n",
      "print (order_nodes_numba(receivers, [4], mode='non-recursive') == expected_order).all()"
     ],
     "language": "python",
     "metadata": {},
     "outputs": [
      {
       "output_type": "stream",
       "stream": "stdout",
       "text": [
        "True\n",
        "True"
       ]
      },
      {
       "output_type": "stream",
       "stream": "stdout",
       "text": [
        "\n",
        "True"
       ]
      },
      {
       "output_type": "stream",
       "stream": "stdout",
       "text": [
        "\n"
       ]
      }
     ],
     "prompt_number": 5
    },
    {
     "cell_type": "heading",
     "level": 3,
     "metadata": {},
     "source": [
      "Benchmarking"
     ]
    },
    {
     "cell_type": "code",
     "collapsed": false,
     "input": [
      "sys.setrecursionlimit(10000)"
     ],
     "language": "python",
     "metadata": {},
     "outputs": [],
     "prompt_number": 6
    },
    {
     "cell_type": "markdown",
     "metadata": {},
     "source": [
      "Create the raster model grid"
     ]
    },
    {
     "cell_type": "code",
     "collapsed": false,
     "input": [
      "rgrid = RasterModelGrid(1000, 1000)\n",
      "\n",
      "# using a random perturbed planar topography (diagonal oriented)\n",
      "max_elevation = 50.\n",
      "elevation = rgrid.node_y + rgrid.node_x \n",
      "elevation /= elevation.max() / max_elevation\n",
      "#elevation += numpy.random.rand(elevation.size) / 1e5\n",
      "rgrid.add_field('node', 'planet_surface__elevation', elevation)\n",
      "\n",
      "# first node is the unique outlet\n",
      "rgrid.set_closed_boundaries_at_grid_edges(True, True, True, True)\n",
      "rgrid.set_fixed_value_boundaries(0)"
     ],
     "language": "python",
     "metadata": {},
     "outputs": [],
     "prompt_number": 7
    },
    {
     "cell_type": "markdown",
     "metadata": {},
     "source": [
      "Get D8 single flow receivers"
     ]
    },
    {
     "cell_type": "code",
     "collapsed": false,
     "input": [
      "frouter = FlowRouter(rgrid)\n",
      "rgrid = frouter.route_flow(grid=rgrid)\n",
      "receivers = rgrid['node']['flow_receiver']\n",
      "\n",
      "receivers"
     ],
     "language": "python",
     "metadata": {},
     "outputs": [
      {
       "metadata": {},
       "output_type": "pyout",
       "prompt_number": 8,
       "text": [
        "array([     0,      1,      2, ..., 999997, 999998, 999999])"
       ]
      }
     ],
     "prompt_number": 8
    },
    {
     "cell_type": "markdown",
     "metadata": {},
     "source": [
      "Compare execution times: numpy vs. numba (pure-python recursive and jitted non-recursive) vs. elevation sorting (using numpy)"
     ]
    },
    {
     "cell_type": "code",
     "collapsed": false,
     "input": [
      "%timeit order_nodes_numpy(receivers, [0])"
     ],
     "language": "python",
     "metadata": {},
     "outputs": [
      {
       "output_type": "stream",
       "stream": "stdout",
       "text": [
        "1 loops, best of 3: 4.3 s per loop\n"
       ]
      }
     ],
     "prompt_number": 9
    },
    {
     "cell_type": "code",
     "collapsed": false,
     "input": [
      "%timeit order_nodes_numba(receivers, [0])"
     ],
     "language": "python",
     "metadata": {},
     "outputs": [
      {
       "output_type": "stream",
       "stream": "stdout",
       "text": [
        "1 loops, best of 3: 2.41 s per loop\n"
       ]
      }
     ],
     "prompt_number": 10
    },
    {
     "cell_type": "code",
     "collapsed": false,
     "input": [
      "%timeit order_nodes_numba(receivers, [0], mode='non-recursive')"
     ],
     "language": "python",
     "metadata": {},
     "outputs": [
      {
       "output_type": "stream",
       "stream": "stdout",
       "text": [
        "10 loops, best of 3: 145 ms per loop\n"
       ]
      }
     ],
     "prompt_number": 11
    },
    {
     "cell_type": "code",
     "collapsed": false,
     "input": [
      "%timeit numpy.argsort(rgrid['node']['planet_surface__elevation'])"
     ],
     "language": "python",
     "metadata": {},
     "outputs": [
      {
       "output_type": "stream",
       "stream": "stdout",
       "text": [
        "10 loops, best of 3: 73.7 ms per loop\n"
       ]
      }
     ],
     "prompt_number": 12
    },
    {
     "cell_type": "code",
     "collapsed": false,
     "input": [],
     "language": "python",
     "metadata": {},
     "outputs": [],
     "prompt_number": 13
    }
   ],
   "metadata": {}
  }
 ]
}